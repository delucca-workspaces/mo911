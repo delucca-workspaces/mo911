{
 "cells": [
  {
   "cell_type": "markdown",
   "id": "7950ccf9-006d-43dd-9be7-1243983f2873",
   "metadata": {},
   "source": [
    "## Análise estatística"
   ]
  },
  {
   "cell_type": "markdown",
   "id": "e292340c-9cd9-457a-a47d-03cabe386c2f",
   "metadata": {},
   "source": [
    "## Questão 1\n",
    "\n",
    "Com base no arquivo `bp.csv`, avalie:\n",
    "- Teste t\n",
    "- Wilcoxon rank sum\n",
    "\n",
    "E reporte:\n",
    "1. O p-valor da comparação entre a pressão sanguínea de pessoas diabéticas ou não\n",
    "2. Qual tem a maior pressão média? E maior pressão mediana?\n",
    "3. A diferença é significativa?\n",
    "\n",
    "Discuta a diferença dos p-valores. Quais dos 2 testes você acha mais aproriado nesse caso?"
   ]
  },
  {
   "cell_type": "markdown",
   "id": "a9a81104-9be5-4526-bf70-cd24171d8355",
   "metadata": {},
   "source": [
    "### Carregando os dados"
   ]
  },
  {
   "cell_type": "code",
   "execution_count": 1,
   "id": "30508d98-fbcb-44d1-9f86-f68e224e4f42",
   "metadata": {},
   "outputs": [
    {
     "data": {
      "text/html": [
       "<div>\n",
       "<style scoped>\n",
       "    .dataframe tbody tr th:only-of-type {\n",
       "        vertical-align: middle;\n",
       "    }\n",
       "\n",
       "    .dataframe tbody tr th {\n",
       "        vertical-align: top;\n",
       "    }\n",
       "\n",
       "    .dataframe thead th {\n",
       "        text-align: right;\n",
       "    }\n",
       "</style>\n",
       "<table border=\"1\" class=\"dataframe\">\n",
       "  <thead>\n",
       "    <tr style=\"text-align: right;\">\n",
       "      <th></th>\n",
       "      <th>bp</th>\n",
       "      <th>type</th>\n",
       "    </tr>\n",
       "  </thead>\n",
       "  <tbody>\n",
       "    <tr>\n",
       "      <th>0</th>\n",
       "      <td>68</td>\n",
       "      <td>No</td>\n",
       "    </tr>\n",
       "    <tr>\n",
       "      <th>1</th>\n",
       "      <td>70</td>\n",
       "      <td>Yes</td>\n",
       "    </tr>\n",
       "    <tr>\n",
       "      <th>2</th>\n",
       "      <td>82</td>\n",
       "      <td>No</td>\n",
       "    </tr>\n",
       "    <tr>\n",
       "      <th>3</th>\n",
       "      <td>76</td>\n",
       "      <td>No</td>\n",
       "    </tr>\n",
       "    <tr>\n",
       "      <th>4</th>\n",
       "      <td>60</td>\n",
       "      <td>No</td>\n",
       "    </tr>\n",
       "    <tr>\n",
       "      <th>...</th>\n",
       "      <td>...</td>\n",
       "      <td>...</td>\n",
       "    </tr>\n",
       "    <tr>\n",
       "      <th>195</th>\n",
       "      <td>58</td>\n",
       "      <td>No</td>\n",
       "    </tr>\n",
       "    <tr>\n",
       "      <th>196</th>\n",
       "      <td>68</td>\n",
       "      <td>Yes</td>\n",
       "    </tr>\n",
       "    <tr>\n",
       "      <th>197</th>\n",
       "      <td>70</td>\n",
       "      <td>No</td>\n",
       "    </tr>\n",
       "    <tr>\n",
       "      <th>198</th>\n",
       "      <td>58</td>\n",
       "      <td>No</td>\n",
       "    </tr>\n",
       "    <tr>\n",
       "      <th>199</th>\n",
       "      <td>62</td>\n",
       "      <td>Yes</td>\n",
       "    </tr>\n",
       "  </tbody>\n",
       "</table>\n",
       "<p>200 rows × 2 columns</p>\n",
       "</div>"
      ],
      "text/plain": [
       "     bp type\n",
       "0    68   No\n",
       "1    70  Yes\n",
       "2    82   No\n",
       "3    76   No\n",
       "4    60   No\n",
       "..   ..  ...\n",
       "195  58   No\n",
       "196  68  Yes\n",
       "197  70   No\n",
       "198  58   No\n",
       "199  62  Yes\n",
       "\n",
       "[200 rows x 2 columns]"
      ]
     },
     "execution_count": 1,
     "metadata": {},
     "output_type": "execute_result"
    }
   ],
   "source": [
    "import pandas as pd\n",
    "\n",
    "bp = pd.read_csv('./data/bp.csv')\n",
    "bp"
   ]
  },
  {
   "cell_type": "markdown",
   "id": "2082957a-540f-45d1-93f4-9866aa33d597",
   "metadata": {},
   "source": [
    "### Dividindo as populações"
   ]
  },
  {
   "cell_type": "markdown",
   "id": "eaa3b9a5-8b82-475a-b694-e7b49e28772a",
   "metadata": {},
   "source": [
    "Tendo os dados que foram coletados, iremos agora dividí-los em duas populações. Considero que `type=yes` significa que a pessoa possui diabetes"
   ]
  },
  {
   "cell_type": "code",
   "execution_count": 2,
   "id": "71381db6-cc69-44a2-bd55-e02a5993aa35",
   "metadata": {},
   "outputs": [],
   "source": [
    "pop_diabetes = bp.loc[bp['type'] == 'Yes']['bp']\n",
    "pop_no_diabetes = bp.loc[bp['type'] == 'No']['bp']"
   ]
  },
  {
   "cell_type": "code",
   "execution_count": 3,
   "id": "2fac5758-036f-48f8-9665-e728db090ec5",
   "metadata": {},
   "outputs": [
    {
     "data": {
      "text/plain": [
       "1       70\n",
       "5       76\n",
       "9       78\n",
       "10      40\n",
       "12      60\n",
       "      ... \n",
       "187     62\n",
       "189    102\n",
       "192     48\n",
       "196     68\n",
       "199     62\n",
       "Name: bp, Length: 68, dtype: int64"
      ]
     },
     "execution_count": 3,
     "metadata": {},
     "output_type": "execute_result"
    }
   ],
   "source": [
    "pop_diabetes"
   ]
  },
  {
   "cell_type": "code",
   "execution_count": 4,
   "id": "99cc8807-7f18-4f36-9655-ace3d27fb838",
   "metadata": {},
   "outputs": [
    {
     "data": {
      "text/plain": [
       "0      68\n",
       "2      82\n",
       "3      76\n",
       "4      60\n",
       "6      58\n",
       "       ..\n",
       "193    68\n",
       "194    74\n",
       "195    58\n",
       "197    70\n",
       "198    58\n",
       "Name: bp, Length: 132, dtype: int64"
      ]
     },
     "execution_count": 4,
     "metadata": {},
     "output_type": "execute_result"
    }
   ],
   "source": [
    "pop_no_diabetes"
   ]
  },
  {
   "cell_type": "markdown",
   "id": "74d3dc33-fec9-4f05-b69b-d80bf48e4c64",
   "metadata": {},
   "source": [
    "### Executando os testes"
   ]
  },
  {
   "cell_type": "markdown",
   "id": "b9b235ba-eb57-4c0b-9ea9-458b487a03c5",
   "metadata": {},
   "source": [
    "#### Teste T"
   ]
  },
  {
   "cell_type": "markdown",
   "id": "3fbe5a03-3645-4fb1-906f-9d6d3765c292",
   "metadata": {},
   "source": [
    "Considerando os dados, irei agora executar o Teste T nas duas populações:"
   ]
  },
  {
   "cell_type": "code",
   "execution_count": 5,
   "id": "876d20e9-2cf2-4b05-83b8-373f46794c76",
   "metadata": {},
   "outputs": [
    {
     "data": {
      "text/plain": [
       "Ttest_indResult(statistic=3.001495202122035, pvalue=0.0030323591864622732)"
      ]
     },
     "execution_count": 5,
     "metadata": {},
     "output_type": "execute_result"
    }
   ],
   "source": [
    "import scipy.stats as stats\n",
    "\n",
    "stats.ttest_ind(pop_diabetes, pop_no_diabetes)"
   ]
  },
  {
   "cell_type": "markdown",
   "id": "26d9a350-7f49-437c-b8b3-5b67e793b1d2",
   "metadata": {},
   "source": [
    "#### Wilcoxon Rank Sums"
   ]
  },
  {
   "cell_type": "code",
   "execution_count": 6,
   "id": "f87855d0-9a18-4bb0-819a-c27e2a0d5312",
   "metadata": {},
   "outputs": [
    {
     "data": {
      "text/plain": [
       "RanksumsResult(statistic=3.045797809294312, pvalue=0.0023206383267846886)"
      ]
     },
     "execution_count": 6,
     "metadata": {},
     "output_type": "execute_result"
    }
   ],
   "source": [
    "stats.ranksums(pop_diabetes,pop_no_diabetes)"
   ]
  },
  {
   "cell_type": "markdown",
   "id": "624f6e55-d637-4f64-8c25-aa8f8ebaf09d",
   "metadata": {},
   "source": [
    "### Comparando os p-valores"
   ]
  },
  {
   "cell_type": "markdown",
   "id": "b7725283-f7cb-4e0f-bfb5-25eebe1478ff",
   "metadata": {},
   "source": [
    "Como é possível ver nos dois testes reportados acima, vejos que considerando o Teste T, $p-value = 0.003$, enquanto para o teste Wilcoxon Rank Sums (não-paramétrico) $p-value = 0.002$. Ambos são bem próximos."
   ]
  },
  {
   "cell_type": "markdown",
   "id": "ad4976b3-ac27-4e75-b78a-bab6e3f4146c",
   "metadata": {},
   "source": [
    "### Avaliando médias e medianas"
   ]
  },
  {
   "cell_type": "code",
   "execution_count": 7,
   "id": "ec49013d-1126-4a87-8435-fb6bbca1a212",
   "metadata": {},
   "outputs": [
    {
     "name": "stdout",
     "output_type": "stream",
     "text": [
      "Média diabetes: 74.58823529411765\n",
      "Média sem diabetes: 69.54545454545455\n"
     ]
    }
   ],
   "source": [
    "avg_diabetes = pop_diabetes.mean()\n",
    "avg_no_diabetes = pop_no_diabetes.mean()\n",
    "\n",
    "print(f'Média diabetes: {avg_diabetes}')\n",
    "print(f'Média sem diabetes: {avg_no_diabetes}')"
   ]
  },
  {
   "cell_type": "code",
   "execution_count": 8,
   "id": "51b8a41d-3987-403e-a53a-a1ddf8da80fa",
   "metadata": {},
   "outputs": [
    {
     "name": "stdout",
     "output_type": "stream",
     "text": [
      "Mediana diabetes: 76.0\n",
      "Mediana sem diabetes: 70.0\n"
     ]
    }
   ],
   "source": [
    "median_diabetes = pop_diabetes.median()\n",
    "median_no_diabetes = pop_no_diabetes.median()\n",
    "\n",
    "print(f'Mediana diabetes: {median_diabetes}')\n",
    "print(f'Mediana sem diabetes: {median_no_diabetes}')"
   ]
  },
  {
   "cell_type": "markdown",
   "id": "b929f242-63aa-4119-8ad1-0a27aed529b0",
   "metadata": {},
   "source": [
    "### Conclusão"
   ]
  },
  {
   "cell_type": "markdown",
   "id": "7d99ed10-ac0b-4375-bbb0-33faa49c668a",
   "metadata": {},
   "source": [
    "Com base nessa análise, vemos que há sim uma diferência de pressão sanguínea entre as duas populações. Vemos também que, com base no p-valor que encontramos, os dados **são estatísticamente significantes** e podemos considerar que eles representam distribuições diferentes. Por fim, temos uma redução considerável tanto na média quanto na mediana, podendo assim afirmar que de fato **pacientes sem diabetes tem uma pressão sanguínea inferior**.\n",
    "\n",
    "Considerando os dois possíveis testes, como não temos a informação em relação as distribuições, acredito que o mais adequado seria utilizarmos o **Wilcoxon Rank Sums**, pois ele não assume uma distribuição."
   ]
  },
  {
   "cell_type": "markdown",
   "id": "eefd7b11-d3f6-4e95-9024-99fab5412e39",
   "metadata": {},
   "source": [
    "## Questão 2\n",
    "\n",
    "Com base no arquivo `paired.csv`, avalie:\n",
    "- Teste t pareado\n",
    "- Wilcoxon signed rank\n",
    "\n",
    "E reporte:\n",
    "1. Qual o mês com maior média e maior mediana?\n",
    "2. A diferença é significativa?\n",
    "3. Discuta a diferença dos p-valores, quais dos 2 testes você acha mais apropriado?"
   ]
  },
  {
   "cell_type": "markdown",
   "id": "cf26f9c6-4558-4cfa-ada8-d3890a361cb4",
   "metadata": {},
   "source": [
    "### Carregando os dados"
   ]
  },
  {
   "cell_type": "code",
   "execution_count": 9,
   "id": "b14a2e90-9c0f-4224-b8c2-456e85cbbe90",
   "metadata": {},
   "outputs": [
    {
     "data": {
      "text/html": [
       "<div>\n",
       "<style scoped>\n",
       "    .dataframe tbody tr th:only-of-type {\n",
       "        vertical-align: middle;\n",
       "    }\n",
       "\n",
       "    .dataframe tbody tr th {\n",
       "        vertical-align: top;\n",
       "    }\n",
       "\n",
       "    .dataframe thead th {\n",
       "        text-align: right;\n",
       "    }\n",
       "</style>\n",
       "<table border=\"1\" class=\"dataframe\">\n",
       "  <thead>\n",
       "    <tr style=\"text-align: right;\">\n",
       "      <th></th>\n",
       "      <th>Clone</th>\n",
       "      <th>August</th>\n",
       "      <th>November</th>\n",
       "    </tr>\n",
       "  </thead>\n",
       "  <tbody>\n",
       "    <tr>\n",
       "      <th>0</th>\n",
       "      <td>Balsam_Spire</td>\n",
       "      <td>8.1</td>\n",
       "      <td>11.2</td>\n",
       "    </tr>\n",
       "    <tr>\n",
       "      <th>1</th>\n",
       "      <td>Beaupre</td>\n",
       "      <td>10.0</td>\n",
       "      <td>16.3</td>\n",
       "    </tr>\n",
       "    <tr>\n",
       "      <th>2</th>\n",
       "      <td>Hazendans</td>\n",
       "      <td>16.5</td>\n",
       "      <td>15.3</td>\n",
       "    </tr>\n",
       "    <tr>\n",
       "      <th>3</th>\n",
       "      <td>Hoogvorst</td>\n",
       "      <td>13.6</td>\n",
       "      <td>15.6</td>\n",
       "    </tr>\n",
       "    <tr>\n",
       "      <th>4</th>\n",
       "      <td>Raspalje</td>\n",
       "      <td>9.5</td>\n",
       "      <td>10.5</td>\n",
       "    </tr>\n",
       "    <tr>\n",
       "      <th>5</th>\n",
       "      <td>Unal</td>\n",
       "      <td>8.3</td>\n",
       "      <td>15.5</td>\n",
       "    </tr>\n",
       "    <tr>\n",
       "      <th>6</th>\n",
       "      <td>Columbia_River</td>\n",
       "      <td>18.3</td>\n",
       "      <td>12.7</td>\n",
       "    </tr>\n",
       "    <tr>\n",
       "      <th>7</th>\n",
       "      <td>Fritzi_Pauley</td>\n",
       "      <td>13.3</td>\n",
       "      <td>11.1</td>\n",
       "    </tr>\n",
       "    <tr>\n",
       "      <th>8</th>\n",
       "      <td>Trichobel</td>\n",
       "      <td>7.9</td>\n",
       "      <td>19.9</td>\n",
       "    </tr>\n",
       "    <tr>\n",
       "      <th>9</th>\n",
       "      <td>Gaver</td>\n",
       "      <td>8.1</td>\n",
       "      <td>20.4</td>\n",
       "    </tr>\n",
       "    <tr>\n",
       "      <th>10</th>\n",
       "      <td>Gibecq</td>\n",
       "      <td>8.9</td>\n",
       "      <td>14.2</td>\n",
       "    </tr>\n",
       "    <tr>\n",
       "      <th>11</th>\n",
       "      <td>Primo</td>\n",
       "      <td>12.6</td>\n",
       "      <td>12.7</td>\n",
       "    </tr>\n",
       "    <tr>\n",
       "      <th>12</th>\n",
       "      <td>Wolterson</td>\n",
       "      <td>13.4</td>\n",
       "      <td>36.8</td>\n",
       "    </tr>\n",
       "  </tbody>\n",
       "</table>\n",
       "</div>"
      ],
      "text/plain": [
       "             Clone  August  November\n",
       "0     Balsam_Spire     8.1      11.2\n",
       "1          Beaupre    10.0      16.3\n",
       "2        Hazendans    16.5      15.3\n",
       "3        Hoogvorst    13.6      15.6\n",
       "4         Raspalje     9.5      10.5\n",
       "5             Unal     8.3      15.5\n",
       "6   Columbia_River    18.3      12.7\n",
       "7    Fritzi_Pauley    13.3      11.1\n",
       "8        Trichobel     7.9      19.9\n",
       "9            Gaver     8.1      20.4\n",
       "10          Gibecq     8.9      14.2\n",
       "11           Primo    12.6      12.7\n",
       "12       Wolterson    13.4      36.8"
      ]
     },
     "execution_count": 9,
     "metadata": {},
     "output_type": "execute_result"
    }
   ],
   "source": [
    "import pandas as pd\n",
    "\n",
    "paired = pd.read_csv('./data/paired.csv')\n",
    "paired"
   ]
  },
  {
   "cell_type": "markdown",
   "id": "5cc33529-7624-4775-865d-b056801403d0",
   "metadata": {},
   "source": [
    "### Dividindo as populações"
   ]
  },
  {
   "cell_type": "markdown",
   "id": "89b8082f-febe-4c53-bbe8-28e30ee2a6f9",
   "metadata": {},
   "source": [
    "Como população, considero as colunas dos meses, sendo `August` antes da intervenção e `November` após"
   ]
  },
  {
   "cell_type": "code",
   "execution_count": 10,
   "id": "0a6b0c59-688d-43bf-9635-73c0d27ad964",
   "metadata": {},
   "outputs": [],
   "source": [
    "pre = paired['August']\n",
    "post = paired['November']"
   ]
  },
  {
   "cell_type": "code",
   "execution_count": 11,
   "id": "44419277-68d5-4d16-9492-dcee9dcd7f38",
   "metadata": {},
   "outputs": [
    {
     "data": {
      "text/plain": [
       "0      8.1\n",
       "1     10.0\n",
       "2     16.5\n",
       "3     13.6\n",
       "4      9.5\n",
       "5      8.3\n",
       "6     18.3\n",
       "7     13.3\n",
       "8      7.9\n",
       "9      8.1\n",
       "10     8.9\n",
       "11    12.6\n",
       "12    13.4\n",
       "Name: August, dtype: float64"
      ]
     },
     "execution_count": 11,
     "metadata": {},
     "output_type": "execute_result"
    }
   ],
   "source": [
    "pre"
   ]
  },
  {
   "cell_type": "code",
   "execution_count": 12,
   "id": "d0963095-0c0e-431a-8313-90d7d918ccee",
   "metadata": {},
   "outputs": [
    {
     "data": {
      "text/plain": [
       "0     11.2\n",
       "1     16.3\n",
       "2     15.3\n",
       "3     15.6\n",
       "4     10.5\n",
       "5     15.5\n",
       "6     12.7\n",
       "7     11.1\n",
       "8     19.9\n",
       "9     20.4\n",
       "10    14.2\n",
       "11    12.7\n",
       "12    36.8\n",
       "Name: November, dtype: float64"
      ]
     },
     "execution_count": 12,
     "metadata": {},
     "output_type": "execute_result"
    }
   ],
   "source": [
    "post"
   ]
  },
  {
   "cell_type": "markdown",
   "id": "917cb339-cc5e-41c6-938a-f009118633d2",
   "metadata": {},
   "source": [
    "### Executando os testes"
   ]
  },
  {
   "cell_type": "markdown",
   "id": "c4f5ad03-0a08-47dc-8e37-8fcf805f9b63",
   "metadata": {},
   "source": [
    "#### Teste T Pareado"
   ]
  },
  {
   "cell_type": "code",
   "execution_count": 13,
   "id": "c9770737-9035-46b1-9ae2-74e7acddcb00",
   "metadata": {},
   "outputs": [
    {
     "data": {
      "text/plain": [
       "Ttest_relResult(statistic=-2.3088956550760438, pvalue=0.03955525086687241)"
      ]
     },
     "execution_count": 13,
     "metadata": {},
     "output_type": "execute_result"
    }
   ],
   "source": [
    "import scipy.stats as stats\n",
    "\n",
    "stats.ttest_rel(pre, post)"
   ]
  },
  {
   "cell_type": "markdown",
   "id": "e01a96da-2bfa-47c3-b6a6-525598cecce8",
   "metadata": {},
   "source": [
    "#### Wilcoxon Signed Rank"
   ]
  },
  {
   "cell_type": "code",
   "execution_count": 14,
   "id": "de050cf4-1bee-4f6d-8a26-85b135dffa85",
   "metadata": {},
   "outputs": [
    {
     "data": {
      "text/plain": [
       "WilcoxonResult(statistic=16.0, pvalue=0.039794921875)"
      ]
     },
     "execution_count": 14,
     "metadata": {},
     "output_type": "execute_result"
    }
   ],
   "source": [
    "stats.wilcoxon(pre, post)"
   ]
  },
  {
   "cell_type": "markdown",
   "id": "54193d87-e40c-45c7-8c38-66e1bb77a861",
   "metadata": {},
   "source": [
    "### Avaliando as médias e medianas"
   ]
  },
  {
   "cell_type": "code",
   "execution_count": 15,
   "id": "0ce9b507-0d59-4bae-a657-664e584e2d37",
   "metadata": {},
   "outputs": [
    {
     "name": "stdout",
     "output_type": "stream",
     "text": [
      "Média Agosto: 11.423076923076925\n",
      "Média Novembro: 16.323076923076922\n"
     ]
    }
   ],
   "source": [
    "avg_august = pre.mean()\n",
    "avg_november = post.mean()\n",
    "\n",
    "print(f'Média Agosto: {avg_august}')\n",
    "print(f'Média Novembro: {avg_november}')"
   ]
  },
  {
   "cell_type": "code",
   "execution_count": 16,
   "id": "95a8346c-da4c-4718-8242-b111e829d081",
   "metadata": {},
   "outputs": [
    {
     "name": "stdout",
     "output_type": "stream",
     "text": [
      "Mediana Agosto: 10.0\n",
      "Mediana Novembro: 15.3\n"
     ]
    }
   ],
   "source": [
    "median_august = pre.median()\n",
    "median_november = post.median()\n",
    "\n",
    "print(f'Mediana Agosto: {median_august}')\n",
    "print(f'Mediana Novembro: {median_november}')"
   ]
  },
  {
   "cell_type": "markdown",
   "id": "770f9cd8-690a-4b13-bb3c-db81b7494717",
   "metadata": {},
   "source": [
    "### Conclusão"
   ]
  },
  {
   "cell_type": "markdown",
   "id": "a571480f-fcc8-47b3-a1ed-dbedaed05de4",
   "metadata": {},
   "source": [
    "Com base nessa análise, vemos que há uma diferença quando olhamos aos dados de forma pareada. Vemos também que, com base no p-valor que encontramos, os dados **são estatísticamente significantes** e podemos considerar que eles representam distribuições diferentes. Por fim, temos um aumento considerável tanto na média quanto na mediana, podendo assim afirmar que de fato **há intervenção teve algum resultado**.\n",
    "\n",
    "Considerando os dois possíveis testes, como não temos a informação em relação as distribuições, acredito que o mais adequado seria utilizarmos o **Wilcoxon Signed Rank**, pois ele não depende do tipo da distribuição dos dados."
   ]
  },
  {
   "cell_type": "markdown",
   "id": "5af6802d-d0f1-4728-ae31-99e9f543233e",
   "metadata": {},
   "source": [
    "## Questão 3"
   ]
  },
  {
   "cell_type": "markdown",
   "id": "35b5fb5e-30c1-4073-a3a4-9fa6e5d4c1bf",
   "metadata": {},
   "source": [
    "Utilizando os dados não pareados localizados em `bp.csv` gere o intervalo de confiança para a pressão sanguínea dos pacientes com e sem diabetes (intervalo de 95% de confiança) usando o método de bootstrap"
   ]
  },
  {
   "cell_type": "markdown",
   "id": "3657fe56-ff44-401f-99e3-37e194ccc52a",
   "metadata": {},
   "source": [
    "### Carregando os dados"
   ]
  },
  {
   "cell_type": "code",
   "execution_count": 17,
   "id": "b26ed296-9b31-42ea-b039-c748343870fb",
   "metadata": {},
   "outputs": [
    {
     "data": {
      "text/html": [
       "<div>\n",
       "<style scoped>\n",
       "    .dataframe tbody tr th:only-of-type {\n",
       "        vertical-align: middle;\n",
       "    }\n",
       "\n",
       "    .dataframe tbody tr th {\n",
       "        vertical-align: top;\n",
       "    }\n",
       "\n",
       "    .dataframe thead th {\n",
       "        text-align: right;\n",
       "    }\n",
       "</style>\n",
       "<table border=\"1\" class=\"dataframe\">\n",
       "  <thead>\n",
       "    <tr style=\"text-align: right;\">\n",
       "      <th></th>\n",
       "      <th>bp</th>\n",
       "      <th>type</th>\n",
       "    </tr>\n",
       "  </thead>\n",
       "  <tbody>\n",
       "    <tr>\n",
       "      <th>0</th>\n",
       "      <td>68</td>\n",
       "      <td>No</td>\n",
       "    </tr>\n",
       "    <tr>\n",
       "      <th>1</th>\n",
       "      <td>70</td>\n",
       "      <td>Yes</td>\n",
       "    </tr>\n",
       "    <tr>\n",
       "      <th>2</th>\n",
       "      <td>82</td>\n",
       "      <td>No</td>\n",
       "    </tr>\n",
       "    <tr>\n",
       "      <th>3</th>\n",
       "      <td>76</td>\n",
       "      <td>No</td>\n",
       "    </tr>\n",
       "    <tr>\n",
       "      <th>4</th>\n",
       "      <td>60</td>\n",
       "      <td>No</td>\n",
       "    </tr>\n",
       "    <tr>\n",
       "      <th>...</th>\n",
       "      <td>...</td>\n",
       "      <td>...</td>\n",
       "    </tr>\n",
       "    <tr>\n",
       "      <th>195</th>\n",
       "      <td>58</td>\n",
       "      <td>No</td>\n",
       "    </tr>\n",
       "    <tr>\n",
       "      <th>196</th>\n",
       "      <td>68</td>\n",
       "      <td>Yes</td>\n",
       "    </tr>\n",
       "    <tr>\n",
       "      <th>197</th>\n",
       "      <td>70</td>\n",
       "      <td>No</td>\n",
       "    </tr>\n",
       "    <tr>\n",
       "      <th>198</th>\n",
       "      <td>58</td>\n",
       "      <td>No</td>\n",
       "    </tr>\n",
       "    <tr>\n",
       "      <th>199</th>\n",
       "      <td>62</td>\n",
       "      <td>Yes</td>\n",
       "    </tr>\n",
       "  </tbody>\n",
       "</table>\n",
       "<p>200 rows × 2 columns</p>\n",
       "</div>"
      ],
      "text/plain": [
       "     bp type\n",
       "0    68   No\n",
       "1    70  Yes\n",
       "2    82   No\n",
       "3    76   No\n",
       "4    60   No\n",
       "..   ..  ...\n",
       "195  58   No\n",
       "196  68  Yes\n",
       "197  70   No\n",
       "198  58   No\n",
       "199  62  Yes\n",
       "\n",
       "[200 rows x 2 columns]"
      ]
     },
     "execution_count": 17,
     "metadata": {},
     "output_type": "execute_result"
    }
   ],
   "source": [
    "import pandas as pd\n",
    "\n",
    "bp = pd.read_csv('./data/bp.csv')\n",
    "bp"
   ]
  },
  {
   "cell_type": "markdown",
   "id": "aa22a914-2d3b-49db-a511-d2cbe227f454",
   "metadata": {},
   "source": [
    "### Dividindo as populações"
   ]
  },
  {
   "cell_type": "markdown",
   "id": "1ab1f8e6-99cc-4f14-b9d9-218cbe72598e",
   "metadata": {},
   "source": [
    "Tendo os dados que foram coletados, iremos agora dividí-los em duas populações. Considero que `type=yes` significa que a pessoa possui diabetes"
   ]
  },
  {
   "cell_type": "code",
   "execution_count": 18,
   "id": "3696fea4-c58a-4a3b-b231-d3143f27d373",
   "metadata": {},
   "outputs": [],
   "source": [
    "pop_diabetes = bp.loc[bp['type'] == 'Yes']['bp']\n",
    "pop_no_diabetes = bp.loc[bp['type'] == 'No']['bp']"
   ]
  },
  {
   "cell_type": "code",
   "execution_count": 19,
   "id": "bdecafc3-3632-4753-83b4-2c29b4808b6a",
   "metadata": {},
   "outputs": [
    {
     "data": {
      "text/plain": [
       "1       70\n",
       "5       76\n",
       "9       78\n",
       "10      40\n",
       "12      60\n",
       "      ... \n",
       "187     62\n",
       "189    102\n",
       "192     48\n",
       "196     68\n",
       "199     62\n",
       "Name: bp, Length: 68, dtype: int64"
      ]
     },
     "execution_count": 19,
     "metadata": {},
     "output_type": "execute_result"
    }
   ],
   "source": [
    "pop_diabetes"
   ]
  },
  {
   "cell_type": "code",
   "execution_count": 20,
   "id": "21961a86-1df9-45de-bc18-c6955a846a3e",
   "metadata": {},
   "outputs": [
    {
     "data": {
      "text/plain": [
       "0      68\n",
       "2      82\n",
       "3      76\n",
       "4      60\n",
       "6      58\n",
       "       ..\n",
       "193    68\n",
       "194    74\n",
       "195    58\n",
       "197    70\n",
       "198    58\n",
       "Name: bp, Length: 132, dtype: int64"
      ]
     },
     "execution_count": 20,
     "metadata": {},
     "output_type": "execute_result"
    }
   ],
   "source": [
    "pop_no_diabetes"
   ]
  },
  {
   "cell_type": "markdown",
   "id": "734f7ee1-327f-4536-9cb1-73955eecf8ea",
   "metadata": {},
   "source": [
    "### Calculando o intervalo de confiança"
   ]
  },
  {
   "cell_type": "markdown",
   "id": "9bad0cbf-72d8-4ddc-b53b-c4ff28070f28",
   "metadata": {},
   "source": [
    "#### Para a população com diabetes"
   ]
  },
  {
   "cell_type": "code",
   "execution_count": 21,
   "id": "510d31e9-d374-4641-a924-e45d6d7e1bef",
   "metadata": {},
   "outputs": [
    {
     "data": {
      "text/plain": [
       "BootstrapResult(confidence_interval=ConfidenceInterval(low=71.77941176470588, high=77.29411764705883), standard_error=1.3984577204066557)"
      ]
     },
     "execution_count": 21,
     "metadata": {},
     "output_type": "execute_result"
    }
   ],
   "source": [
    "import scipy.stats as stats\n",
    "import numpy as np\n",
    "\n",
    "stats.bootstrap((pop_diabetes,), np.mean, confidence_level=0.95,\n",
    "                random_state=1, method='BCa')"
   ]
  },
  {
   "cell_type": "markdown",
   "id": "5dd1f229-47ae-4c29-9a19-e521d7c8f072",
   "metadata": {},
   "source": [
    "#### Para a população sem diabetes"
   ]
  },
  {
   "cell_type": "code",
   "execution_count": 22,
   "id": "5e08a1ed-5b48-4492-8aa8-d9098a20ba52",
   "metadata": {},
   "outputs": [
    {
     "data": {
      "text/plain": [
       "BootstrapResult(confidence_interval=ConfidenceInterval(low=67.6590909090909, high=71.47727272727273), standard_error=0.9743534828940902)"
      ]
     },
     "execution_count": 22,
     "metadata": {},
     "output_type": "execute_result"
    }
   ],
   "source": [
    "stats.bootstrap((pop_no_diabetes,), np.mean, confidence_level=0.95,\n",
    "                random_state=1, method='BCa')"
   ]
  },
  {
   "cell_type": "markdown",
   "id": "ec9f6d05-7db1-4849-bb2d-a1e0e6c43499",
   "metadata": {},
   "source": [
    "### Conclusão"
   ]
  },
  {
   "cell_type": "markdown",
   "id": "9e799ca6-7386-44e8-92f2-1b304a31ab9d",
   "metadata": {},
   "source": [
    "Com base no que foi calculado acima, e considerando um p-value de 0.05 (com nível de confiança em 95%), podemos afirmar pra esse intervalo de confiança pessoas sem diabetes possuem sim um batimento cardíaco reduzido. Vemos isso claramente ao avaliar o teste de bootstrap, onde **para pessoas sem diabetes** temos o menor valor sendo $67.6$ e o maior sendo $71.4$ (com desvio padrão de $0.97$), enquanto **para pessoas com diabetes** temos o menor valor sendo $71.77$ e o maior $77.29$ (com desvio padrão de $1.39$)"
   ]
  },
  {
   "cell_type": "markdown",
   "id": "2afed038-56a2-4240-9cb0-19712b58dd53",
   "metadata": {},
   "source": [
    "## Questão 4"
   ]
  },
  {
   "cell_type": "markdown",
   "id": "fe2699b4-763e-4d12-9c58-ced1d1c10bf6",
   "metadata": {},
   "source": [
    "Utilizando os dados calculados na questão 3 efetue um teste visual: há intersecção entre os intervalos de confiança dos 2 conjuntos de dados? Isso está de acordo com o teste de diferença significativa entre eles feito na questão 1?"
   ]
  },
  {
   "cell_type": "markdown",
   "id": "4ea0a8e8-ff5b-47f2-92fd-003a07c01c09",
   "metadata": {},
   "source": [
    "Como os testes já foram executados nas questões anteriores, não há necessidade de repetílos, portato irei direto para a resposta"
   ]
  },
  {
   "cell_type": "markdown",
   "id": "905fecd3-2bf0-4c65-bd63-02719099281e",
   "metadata": {},
   "source": [
    "### Resposta"
   ]
  },
  {
   "cell_type": "markdown",
   "id": "62a71e9c-c443-4d52-856d-1b920ea84f4e",
   "metadata": {},
   "source": [
    "Considerando os dois conjuntos de dados da questão anterior, vemos que não há intersecção entre os intervalos de confiança. Podemos ver isso através do seguinte gráfico:"
   ]
  },
  {
   "cell_type": "code",
   "execution_count": 23,
   "id": "4e6cbdac-4a7c-4d03-8035-55e6465c0250",
   "metadata": {},
   "outputs": [],
   "source": [
    "no_diabetes_ci = stats.bootstrap((pop_no_diabetes,), np.mean, confidence_level=0.95, random_state=1, method='BCa')\n",
    "diabetes_ci = stats.bootstrap((pop_diabetes,), np.mean, confidence_level=0.95, random_state=1, method='BCa')\n",
    "\n",
    "no_diabetes_low = no_diabetes_ci.confidence_interval.low\n",
    "no_diabetes_high = no_diabetes_ci.confidence_interval.high\n",
    "\n",
    "diabetes_low = diabetes_ci.confidence_interval.low\n",
    "diabetes_high = diabetes_ci.confidence_interval.high"
   ]
  },
  {
   "cell_type": "code",
   "execution_count": 32,
   "id": "3d5610f4-5b09-431e-92ff-5fa6fe041e5c",
   "metadata": {},
   "outputs": [
    {
     "data": {
      "image/png": "[encoded data removed]",
      "text/plain": [
       "<Figure size 640x480 with 1 Axes>"
      ]
     },
     "metadata": {},
     "output_type": "display_data"
    }
   ],
   "source": [
    "from matplotlib import pyplot as plt\n",
    "\n",
    "cat = ['no_diabetes', 'diabetes']\n",
    "low = [no_diabetes_low, diabetes_low]\n",
    "high = [no_diabetes_high, diabetes_high]\n",
    "\n",
    "for high, low, y in zip(high, low, cat):\n",
    "  plt.plot((low, high), (y, y), 'b.-')"
   ]
  },
  {
   "cell_type": "markdown",
   "id": "e2e7b1a1-85f3-4df4-9a8b-02fb2200b0fa",
   "metadata": {},
   "source": [
    "Como podemos ver no gráfico acima, não há intersecção entre ambas. No gráfico em si pelos valores de alta da população sem diabetes ser bem próximo do valor de baixa do com diabetes fica um pouco difícil de visualizar, mas ao olhar pro valor sem si vemos que não há intersecção. Isso comprova o que já foi dito anteriormente na questão um, que podemos considerar esse resultado como estatísticamente relevante e que de fato há sim uma diferença"
   ]
  },
  {
   "cell_type": "markdown",
   "id": "105e7b5d-c432-48b3-890c-67acc7317aa4",
   "metadata": {},
   "source": [
    "## Questão 5"
   ]
  },
  {
   "cell_type": "markdown",
   "id": "cc84b87c-8f6b-4475-94b4-dddc3469dade",
   "metadata": {},
   "source": [
    "Calcule o Cohen D com o pooled standard deviation para a diferença entre a pressão sangüínea de pacientes com e sem diabetes"
   ]
  },
  {
   "cell_type": "markdown",
   "id": "9217183f-d283-4df4-a481-3fe1597b998e",
   "metadata": {},
   "source": [
    "### Carregando os dados"
   ]
  },
  {
   "cell_type": "code",
   "execution_count": 34,
   "id": "906f0307-39d0-4db7-9f4c-1e940e85d075",
   "metadata": {},
   "outputs": [
    {
     "data": {
      "text/html": [
       "<div>\n",
       "<style scoped>\n",
       "    .dataframe tbody tr th:only-of-type {\n",
       "        vertical-align: middle;\n",
       "    }\n",
       "\n",
       "    .dataframe tbody tr th {\n",
       "        vertical-align: top;\n",
       "    }\n",
       "\n",
       "    .dataframe thead th {\n",
       "        text-align: right;\n",
       "    }\n",
       "</style>\n",
       "<table border=\"1\" class=\"dataframe\">\n",
       "  <thead>\n",
       "    <tr style=\"text-align: right;\">\n",
       "      <th></th>\n",
       "      <th>bp</th>\n",
       "      <th>type</th>\n",
       "    </tr>\n",
       "  </thead>\n",
       "  <tbody>\n",
       "    <tr>\n",
       "      <th>0</th>\n",
       "      <td>68</td>\n",
       "      <td>No</td>\n",
       "    </tr>\n",
       "    <tr>\n",
       "      <th>1</th>\n",
       "      <td>70</td>\n",
       "      <td>Yes</td>\n",
       "    </tr>\n",
       "    <tr>\n",
       "      <th>2</th>\n",
       "      <td>82</td>\n",
       "      <td>No</td>\n",
       "    </tr>\n",
       "    <tr>\n",
       "      <th>3</th>\n",
       "      <td>76</td>\n",
       "      <td>No</td>\n",
       "    </tr>\n",
       "    <tr>\n",
       "      <th>4</th>\n",
       "      <td>60</td>\n",
       "      <td>No</td>\n",
       "    </tr>\n",
       "    <tr>\n",
       "      <th>...</th>\n",
       "      <td>...</td>\n",
       "      <td>...</td>\n",
       "    </tr>\n",
       "    <tr>\n",
       "      <th>195</th>\n",
       "      <td>58</td>\n",
       "      <td>No</td>\n",
       "    </tr>\n",
       "    <tr>\n",
       "      <th>196</th>\n",
       "      <td>68</td>\n",
       "      <td>Yes</td>\n",
       "    </tr>\n",
       "    <tr>\n",
       "      <th>197</th>\n",
       "      <td>70</td>\n",
       "      <td>No</td>\n",
       "    </tr>\n",
       "    <tr>\n",
       "      <th>198</th>\n",
       "      <td>58</td>\n",
       "      <td>No</td>\n",
       "    </tr>\n",
       "    <tr>\n",
       "      <th>199</th>\n",
       "      <td>62</td>\n",
       "      <td>Yes</td>\n",
       "    </tr>\n",
       "  </tbody>\n",
       "</table>\n",
       "<p>200 rows × 2 columns</p>\n",
       "</div>"
      ],
      "text/plain": [
       "     bp type\n",
       "0    68   No\n",
       "1    70  Yes\n",
       "2    82   No\n",
       "3    76   No\n",
       "4    60   No\n",
       "..   ..  ...\n",
       "195  58   No\n",
       "196  68  Yes\n",
       "197  70   No\n",
       "198  58   No\n",
       "199  62  Yes\n",
       "\n",
       "[200 rows x 2 columns]"
      ]
     },
     "execution_count": 34,
     "metadata": {},
     "output_type": "execute_result"
    }
   ],
   "source": [
    "import pandas as pd\n",
    "\n",
    "bp = pd.read_csv('./data/bp.csv')\n",
    "bp"
   ]
  },
  {
   "cell_type": "markdown",
   "id": "daafb911-3a09-4df0-90de-45dd993935f1",
   "metadata": {},
   "source": [
    "### Definindo a função pro cálculo"
   ]
  },
  {
   "cell_type": "code",
   "execution_count": 35,
   "id": "4c4a480d-6546-4f45-86f1-e16f71a5106a",
   "metadata": {},
   "outputs": [],
   "source": [
    "from math import sqrt\n",
    "import numpy as np\n",
    " \n",
    "def cohend(d1, d2):\n",
    "    n1, n2 = len(d1), len(d2)\n",
    "    s1, s2 = np.var(d1, ddof=1), np.var(d2, ddof=1)\n",
    "    s = sqrt(((n1 - 1) * s1 + (n2 - 1) * s2) / (n1 + n2 - 2))\n",
    "    u1, u2 = np.mean(d1), np.mean(d2)\n",
    "    return (u1 - u2) / s"
   ]
  },
  {
   "cell_type": "markdown",
   "id": "8774eb30-07db-4fd3-b3ec-5dd084ba9c20",
   "metadata": {},
   "source": [
    "### Calculando o Cohen D"
   ]
  },
  {
   "cell_type": "code",
   "execution_count": 36,
   "id": "7f7be393-5ccc-40f5-a4c9-586488cc0d50",
   "metadata": {},
   "outputs": [
    {
     "name": "stdout",
     "output_type": "stream",
     "text": [
      "Cohens d: 0.448\n"
     ]
    }
   ],
   "source": [
    "pop_diabetes = bp.loc[bp['type'] == 'Yes']['bp']\n",
    "pop_no_diabetes = bp.loc[bp['type'] == 'No']['bp']\n",
    "\n",
    "d = cohend(pop_diabetes, pop_no_diabetes)\n",
    "print('Cohens d: %.3f' % d)"
   ]
  },
  {
   "cell_type": "markdown",
   "id": "c0988882-dd10-4ced-aa2c-f7d112830c8b",
   "metadata": {},
   "source": [
    "## Questão 6"
   ]
  },
  {
   "cell_type": "markdown",
   "id": "3190dc7c-72fb-45f3-bf63-7181363918d1",
   "metadata": {},
   "source": [
    "Com base nos testes, intervalos de confiança, etc realizados acima sobre o dataset bp.csv, qual a sua conclusão sobre pressão arterial em pacientes com ou sem diabetes?"
   ]
  },
  {
   "cell_type": "markdown",
   "id": "4f5dbb51-2178-4243-aa7b-2ec937d14929",
   "metadata": {},
   "source": [
    "### Resposta"
   ]
  },
  {
   "cell_type": "markdown",
   "id": "c8740fcb-ae4d-4f12-800c-c50f8a3e2264",
   "metadata": {},
   "source": [
    "Com base nos testes que foram executados fica evidente que a pressão arterial de pacientes sem diabetes é, em média, inferior. Justifico isso pois há uma evidente diferença entre as duas populações considerando um $p-value$ de 0.05. Avaliei, também, o intevalor de confiança e podemos ver que não intersecção entre ambos, deste modo podemos afirmar que existe base estatística para afirmarmos que pessoas sem diabetes possue uma pressão sanguinea inferior."
   ]
  }
 ],
 "metadata": {
  "kernelspec": {
   "display_name": "Python 3 (ipykernel)",
   "language": "python",
   "name": "python3"
  },
  "language_info": {
   "codemirror_mode": {
    "name": "ipython",
    "version": 3
   },
   "file_extension": ".py",
   "mimetype": "text/x-python",
   "name": "python",
   "nbconvert_exporter": "python",
   "pygments_lexer": "ipython3",
   "version": "3.10.6"
  }
 },
 "nbformat": 4,
 "nbformat_minor": 5
}
