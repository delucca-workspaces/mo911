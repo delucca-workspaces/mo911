{
 "cells": [
  {
   "cell_type": "markdown",
   "id": "7950ccf9-006d-43dd-9be7-1243983f2873",
   "metadata": {},
   "source": [
    "# Análise estatística"
   ]
  },
  {
   "cell_type": "markdown",
   "id": "e292340c-9cd9-457a-a47d-03cabe386c2f",
   "metadata": {},
   "source": [
    "## Questão 1\n",
    "\n",
    "Com base no arquivo bp.csv, avalie:\n",
    "- Teste t\n",
    "- Wilcoxon rank sum\n",
    "\n",
    "E reporte:\n",
    "1. O p-valor da comparação entre a pressão sanguínea de pessoas diabéticas ou não\n",
    "2. Qual tem a maior pressão média? E maior pressão mediana?\n",
    "3. A diferença é significativa?"
   ]
  },
  {
   "cell_type": "code",
   "execution_count": 1,
   "id": "30508d98-fbcb-44d1-9f86-f68e224e4f42",
   "metadata": {},
   "outputs": [
    {
     "data": {
      "text/html": [
       "<div>\n",
       "<style scoped>\n",
       "    .dataframe tbody tr th:only-of-type {\n",
       "        vertical-align: middle;\n",
       "    }\n",
       "\n",
       "    .dataframe tbody tr th {\n",
       "        vertical-align: top;\n",
       "    }\n",
       "\n",
       "    .dataframe thead th {\n",
       "        text-align: right;\n",
       "    }\n",
       "</style>\n",
       "<table border=\"1\" class=\"dataframe\">\n",
       "  <thead>\n",
       "    <tr style=\"text-align: right;\">\n",
       "      <th></th>\n",
       "      <th>bp</th>\n",
       "      <th>type</th>\n",
       "    </tr>\n",
       "  </thead>\n",
       "  <tbody>\n",
       "    <tr>\n",
       "      <th>0</th>\n",
       "      <td>68</td>\n",
       "      <td>No</td>\n",
       "    </tr>\n",
       "    <tr>\n",
       "      <th>1</th>\n",
       "      <td>70</td>\n",
       "      <td>Yes</td>\n",
       "    </tr>\n",
       "    <tr>\n",
       "      <th>2</th>\n",
       "      <td>82</td>\n",
       "      <td>No</td>\n",
       "    </tr>\n",
       "    <tr>\n",
       "      <th>3</th>\n",
       "      <td>76</td>\n",
       "      <td>No</td>\n",
       "    </tr>\n",
       "    <tr>\n",
       "      <th>4</th>\n",
       "      <td>60</td>\n",
       "      <td>No</td>\n",
       "    </tr>\n",
       "    <tr>\n",
       "      <th>...</th>\n",
       "      <td>...</td>\n",
       "      <td>...</td>\n",
       "    </tr>\n",
       "    <tr>\n",
       "      <th>195</th>\n",
       "      <td>58</td>\n",
       "      <td>No</td>\n",
       "    </tr>\n",
       "    <tr>\n",
       "      <th>196</th>\n",
       "      <td>68</td>\n",
       "      <td>Yes</td>\n",
       "    </tr>\n",
       "    <tr>\n",
       "      <th>197</th>\n",
       "      <td>70</td>\n",
       "      <td>No</td>\n",
       "    </tr>\n",
       "    <tr>\n",
       "      <th>198</th>\n",
       "      <td>58</td>\n",
       "      <td>No</td>\n",
       "    </tr>\n",
       "    <tr>\n",
       "      <th>199</th>\n",
       "      <td>62</td>\n",
       "      <td>Yes</td>\n",
       "    </tr>\n",
       "  </tbody>\n",
       "</table>\n",
       "<p>200 rows × 2 columns</p>\n",
       "</div>"
      ],
      "text/plain": [
       "     bp type\n",
       "0    68   No\n",
       "1    70  Yes\n",
       "2    82   No\n",
       "3    76   No\n",
       "4    60   No\n",
       "..   ..  ...\n",
       "195  58   No\n",
       "196  68  Yes\n",
       "197  70   No\n",
       "198  58   No\n",
       "199  62  Yes\n",
       "\n",
       "[200 rows x 2 columns]"
      ]
     },
     "execution_count": 1,
     "metadata": {},
     "output_type": "execute_result"
    }
   ],
   "source": [
    "import pandas as pd\n",
    "\n",
    "bp = pd.read_csv('./data/bp.csv')\n",
    "bp"
   ]
  },
  {
   "cell_type": "markdown",
   "id": "2082957a-540f-45d1-93f4-9866aa33d597",
   "metadata": {},
   "source": [
    "## Dividindo as populações"
   ]
  },
  {
   "cell_type": "markdown",
   "id": "eaa3b9a5-8b82-475a-b694-e7b49e28772a",
   "metadata": {},
   "source": [
    "Tendo os dados que foram coletados, iremos agora dividí-los em duas populações. Considero que `type=yes` significa que a pessoa possui diabetes"
   ]
  },
  {
   "cell_type": "code",
   "execution_count": 24,
   "id": "71381db6-cc69-44a2-bd55-e02a5993aa35",
   "metadata": {},
   "outputs": [],
   "source": [
    "pop_diabetes = bp.loc[bp['type'] == 'Yes']['bp']\n",
    "pop_no_diabetes = bp.loc[bp['type'] == 'No']['bp']"
   ]
  },
  {
   "cell_type": "code",
   "execution_count": 25,
   "id": "2fac5758-036f-48f8-9665-e728db090ec5",
   "metadata": {},
   "outputs": [
    {
     "data": {
      "text/plain": [
       "1       70\n",
       "5       76\n",
       "9       78\n",
       "10      40\n",
       "12      60\n",
       "      ... \n",
       "187     62\n",
       "189    102\n",
       "192     48\n",
       "196     68\n",
       "199     62\n",
       "Name: bp, Length: 68, dtype: int64"
      ]
     },
     "execution_count": 25,
     "metadata": {},
     "output_type": "execute_result"
    }
   ],
   "source": [
    "pop_diabetes"
   ]
  },
  {
   "cell_type": "code",
   "execution_count": 26,
   "id": "99cc8807-7f18-4f36-9655-ace3d27fb838",
   "metadata": {},
   "outputs": [
    {
     "data": {
      "text/plain": [
       "0      68\n",
       "2      82\n",
       "3      76\n",
       "4      60\n",
       "6      58\n",
       "       ..\n",
       "193    68\n",
       "194    74\n",
       "195    58\n",
       "197    70\n",
       "198    58\n",
       "Name: bp, Length: 132, dtype: int64"
      ]
     },
     "execution_count": 26,
     "metadata": {},
     "output_type": "execute_result"
    }
   ],
   "source": [
    "pop_no_diabetes"
   ]
  },
  {
   "cell_type": "markdown",
   "id": "b9b235ba-eb57-4c0b-9ea9-458b487a03c5",
   "metadata": {},
   "source": [
    "### Teste T"
   ]
  },
  {
   "cell_type": "markdown",
   "id": "3fbe5a03-3645-4fb1-906f-9d6d3765c292",
   "metadata": {},
   "source": [
    "Considerando os dados, irei agora executar o Teste T nas duas populações:"
   ]
  },
  {
   "cell_type": "code",
   "execution_count": 30,
   "id": "876d20e9-2cf2-4b05-83b8-373f46794c76",
   "metadata": {},
   "outputs": [
    {
     "data": {
      "text/plain": [
       "Ttest_indResult(statistic=3.001495202122035, pvalue=0.0030323591864622732)"
      ]
     },
     "execution_count": 30,
     "metadata": {},
     "output_type": "execute_result"
    }
   ],
   "source": [
    "import scipy.stats as stats\n",
    "\n",
    "stats.ttest_ind(pop_diabetes, pop_no_diabetes)"
   ]
  },
  {
   "cell_type": "markdown",
   "id": "26d9a350-7f49-437c-b8b3-5b67e793b1d2",
   "metadata": {},
   "source": [
    "### Wilcoxon Rank Sums"
   ]
  },
  {
   "cell_type": "code",
   "execution_count": 28,
   "id": "f87855d0-9a18-4bb0-819a-c27e2a0d5312",
   "metadata": {},
   "outputs": [
    {
     "name": "stdout",
     "output_type": "stream",
     "text": [
      "stat=3.046, p=0.002\n",
      "Probably different distributions\n"
     ]
    }
   ],
   "source": [
    "stat, p = stats.ranksums(pop_diabetes,pop_no_diabetes)\n",
    "print('stat=%.3f, p=%.3f' % (stat, p))\n",
    "if p > 0.05:\n",
    "\tprint('Probably the same distribution')\n",
    "else:\n",
    "\tprint('Probably different distributions')"
   ]
  },
  {
   "cell_type": "markdown",
   "id": "624f6e55-d637-4f64-8c25-aa8f8ebaf09d",
   "metadata": {},
   "source": [
    "## Comparando os p-valores"
   ]
  },
  {
   "cell_type": "markdown",
   "id": "b7725283-f7cb-4e0f-bfb5-25eebe1478ff",
   "metadata": {},
   "source": [
    "Como é possível ver nos dois testes reportados acima, vejos que considerando o Teste T, $p-value = 0.003$, enquanto para o teste Wilcoxon Rank Sums (não-paramétrico) $p-value = 0.002$. Ambos são bem próximos."
   ]
  },
  {
   "cell_type": "markdown",
   "id": "ad4976b3-ac27-4e75-b78a-bab6e3f4146c",
   "metadata": {},
   "source": [
    "## Avaliando médias e medianas"
   ]
  },
  {
   "cell_type": "code",
   "execution_count": 33,
   "id": "ec49013d-1126-4a87-8435-fb6bbca1a212",
   "metadata": {},
   "outputs": [
    {
     "name": "stdout",
     "output_type": "stream",
     "text": [
      "Média diabetes: 74.58823529411765\n",
      "Média sem diabetes: 69.54545454545455\n"
     ]
    }
   ],
   "source": [
    "avg_diabetes = pop_diabetes.mean()\n",
    "avg_no_diabetes = pop_no_diabetes.mean()\n",
    "\n",
    "print(f'Média diabetes: {avg_diabetes}')\n",
    "print(f'Média sem diabetes: {avg_no_diabetes}')"
   ]
  },
  {
   "cell_type": "code",
   "execution_count": 34,
   "id": "51b8a41d-3987-403e-a53a-a1ddf8da80fa",
   "metadata": {},
   "outputs": [
    {
     "name": "stdout",
     "output_type": "stream",
     "text": [
      "Mediana diabetes: 76.0\n",
      "Mediana sem diabetes: 70.0\n"
     ]
    }
   ],
   "source": [
    "median_diabetes = pop_diabetes.median()\n",
    "median_no_diabetes = pop_no_diabetes.median()\n",
    "\n",
    "print(f'Mediana diabetes: {median_diabetes}')\n",
    "print(f'Mediana sem diabetes: {median_no_diabetes}')"
   ]
  },
  {
   "cell_type": "markdown",
   "id": "b929f242-63aa-4119-8ad1-0a27aed529b0",
   "metadata": {},
   "source": [
    "## Conclusão"
   ]
  },
  {
   "cell_type": "markdown",
   "id": "7d99ed10-ac0b-4375-bbb0-33faa49c668a",
   "metadata": {},
   "source": [
    "Com base nessa análise, vemos que há sim uma diferência de pressão sanguínea entre as duas populações. Vemos também que, com base no p-valor que encontramos, os dados **são estatísticamente significantes** e podemos considerar que eles representam distribuições diferentes. Por fim, temos uma redução considerável tanto na média quanto na mediana, podendo assim afirmar que de fato **pacientes sem diabetes tem uma pressão sanguínea inferior**."
   ]
  }
 ],
 "metadata": {
  "kernelspec": {
   "display_name": "Python 3 (ipykernel)",
   "language": "python",
   "name": "python3"
  },
  "language_info": {
   "codemirror_mode": {
    "name": "ipython",
    "version": 3
   },
   "file_extension": ".py",
   "mimetype": "text/x-python",
   "name": "python",
   "nbconvert_exporter": "python",
   "pygments_lexer": "ipython3",
   "version": "3.10.6"
  }
 },
 "nbformat": 4,
 "nbformat_minor": 5
}
